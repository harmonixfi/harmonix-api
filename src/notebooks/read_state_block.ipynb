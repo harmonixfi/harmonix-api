{
 "cells": [
  {
   "cell_type": "code",
   "execution_count": 1,
   "metadata": {},
   "outputs": [],
   "source": [
    "import sys\n",
    "import os\n",
    "\n",
    "# Determine the root directory (one level up from the notebook directory)\n",
    "root_dir = os.path.abspath('..')\n",
    "\n",
    "# Add the root directory to sys.path\n",
    "sys.path.append(root_dir)"
   ]
  },
  {
   "cell_type": "code",
   "execution_count": 2,
   "metadata": {},
   "outputs": [],
   "source": [
    "from web3 import AsyncWeb3, Web3\n",
    "from web3.eth import Contract\n",
    "from datetime import datetime\n",
    "\n",
    "\n",
    "import json\n",
    "\n",
    "\n",
    "def read_abi(token: str):\n",
    "    with open(f\"../config/{token.lower()}_abi.json\") as f:\n",
    "        data = json.load(f)\n",
    "        return data"
   ]
  },
  {
   "cell_type": "code",
   "execution_count": 3,
   "metadata": {},
   "outputs": [],
   "source": [
    "w3 = Web3(Web3.HTTPProvider(\"https://bitter-wandering-feather.arbitrum-mainnet.quiknode.pro/862a558ad28be94cf6b1ccae509bdca74a19086a\"))\n",
    "\n",
    "rockonyx_delta_neutral_vault_abi = read_abi(\"rockonyxdeltaneutralvault\")\n",
    "vault_contract = w3.eth.contract(\n",
    "    address=\"0x4a10C31b642866d3A3Df2268cEcD2c5B14600523\",\n",
    "    abi=rockonyx_delta_neutral_vault_abi,\n",
    ")\n"
   ]
  },
  {
   "cell_type": "code",
   "execution_count": 4,
   "metadata": {},
   "outputs": [
    {
     "data": {
      "text/plain": [
       "199856245"
      ]
     },
     "execution_count": 4,
     "metadata": {},
     "output_type": "execute_result"
    }
   ],
   "source": [
    "def get_block_by_timestamp(web3, target_timestamp, start_block, end_block):\n",
    "    \"\"\"Binary search to find the block closest to the target timestamp.\"\"\"\n",
    "    while start_block <= end_block:\n",
    "        mid_block = (start_block + end_block) // 2\n",
    "        block = web3.eth.get_block(mid_block)\n",
    "        block_timestamp = block.timestamp\n",
    "\n",
    "        if block_timestamp < target_timestamp:\n",
    "            start_block = mid_block + 1\n",
    "        elif block_timestamp > target_timestamp:\n",
    "            end_block = mid_block - 1\n",
    "        else:\n",
    "            return mid_block  # Exact match\n",
    "\n",
    "    # Return the closest block\n",
    "    return start_block if abs(web3.eth.get_block(start_block).timestamp - target_timestamp) < abs(web3.eth.getBlock(end_block).timestamp - target_timestamp) else end_block\n",
    "\n",
    "\n",
    "# Example usage\n",
    "\n",
    "date = datetime.strptime('2024-04-11 16:05:01', '%Y-%m-%d %H:%M:%S')\n",
    "target_timestamp = int(date.timestamp())  # Replace with your desired timestamp\n",
    "latest_block = w3.eth.block_number\n",
    "\n",
    "# Start searching from the genesis block to the latest block\n",
    "block_number = get_block_by_timestamp(w3, target_timestamp, 0, latest_block)\n",
    "block_number"
   ]
  },
  {
   "cell_type": "code",
   "execution_count": 5,
   "metadata": {},
   "outputs": [
    {
     "ename": "BadFunctionCallOutput",
     "evalue": "Could not decode contract function call to totalValueLocked with return data: b'', output_types: ['uint256']",
     "output_type": "error",
     "traceback": [
      "\u001b[0;31m---------------------------------------------------------------------------\u001b[0m",
      "\u001b[0;31mInsufficientDataBytes\u001b[0m                     Traceback (most recent call last)",
      "File \u001b[0;32m/mnt/e/Working/RockOnyx/SourceCode/rock-onyx-api/.venv/lib/python3.10/site-packages/web3/contract/utils.py:111\u001b[0m, in \u001b[0;36mcall_contract_function\u001b[0;34m(w3, address, normalizers, function_identifier, transaction, block_id, contract_abi, fn_abi, state_override, ccip_read_enabled, decode_tuples, *args, **kwargs)\u001b[0m\n\u001b[1;32m    110\u001b[0m \u001b[38;5;28;01mtry\u001b[39;00m:\n\u001b[0;32m--> 111\u001b[0m     output_data \u001b[38;5;241m=\u001b[39m \u001b[43mw3\u001b[49m\u001b[38;5;241;43m.\u001b[39;49m\u001b[43mcodec\u001b[49m\u001b[38;5;241;43m.\u001b[39;49m\u001b[43mdecode\u001b[49m\u001b[43m(\u001b[49m\u001b[43moutput_types\u001b[49m\u001b[43m,\u001b[49m\u001b[43m \u001b[49m\u001b[43mreturn_data\u001b[49m\u001b[43m)\u001b[49m\n\u001b[1;32m    112\u001b[0m \u001b[38;5;28;01mexcept\u001b[39;00m DecodingError \u001b[38;5;28;01mas\u001b[39;00m e:\n\u001b[1;32m    113\u001b[0m     \u001b[38;5;66;03m# Provide a more helpful error message than the one provided by\u001b[39;00m\n\u001b[1;32m    114\u001b[0m     \u001b[38;5;66;03m# eth-abi-utils\u001b[39;00m\n",
      "File \u001b[0;32m/mnt/e/Working/RockOnyx/SourceCode/rock-onyx-api/.venv/lib/python3.10/site-packages/eth_abi/codec.py:162\u001b[0m, in \u001b[0;36mABIDecoder.decode\u001b[0;34m(self, types, data, strict)\u001b[0m\n\u001b[1;32m    160\u001b[0m stream \u001b[38;5;241m=\u001b[39m \u001b[38;5;28mself\u001b[39m\u001b[38;5;241m.\u001b[39mstream_class(data)\n\u001b[0;32m--> 162\u001b[0m \u001b[38;5;28;01mreturn\u001b[39;00m cast(Tuple[Any, \u001b[38;5;241m.\u001b[39m\u001b[38;5;241m.\u001b[39m\u001b[38;5;241m.\u001b[39m], \u001b[43mdecoder\u001b[49m\u001b[43m(\u001b[49m\u001b[43mstream\u001b[49m\u001b[43m)\u001b[49m)\n",
      "File \u001b[0;32m/mnt/e/Working/RockOnyx/SourceCode/rock-onyx-api/.venv/lib/python3.10/site-packages/eth_abi/decoding.py:131\u001b[0m, in \u001b[0;36mBaseDecoder.__call__\u001b[0;34m(self, stream)\u001b[0m\n\u001b[1;32m    130\u001b[0m \u001b[38;5;28;01mdef\u001b[39;00m \u001b[38;5;21m__call__\u001b[39m(\u001b[38;5;28mself\u001b[39m, stream: ContextFramesBytesIO) \u001b[38;5;241m-\u001b[39m\u001b[38;5;241m>\u001b[39m Any:\n\u001b[0;32m--> 131\u001b[0m     \u001b[38;5;28;01mreturn\u001b[39;00m \u001b[38;5;28;43mself\u001b[39;49m\u001b[38;5;241;43m.\u001b[39;49m\u001b[43mdecode\u001b[49m\u001b[43m(\u001b[49m\u001b[43mstream\u001b[49m\u001b[43m)\u001b[49m\n",
      "File \u001b[0;32m/mnt/e/Working/RockOnyx/SourceCode/rock-onyx-api/.venv/lib/python3.10/site-packages/eth_utils/functional.py:47\u001b[0m, in \u001b[0;36mapply_to_return_value.<locals>.outer.<locals>.inner\u001b[0;34m(*args, **kwargs)\u001b[0m\n\u001b[1;32m     45\u001b[0m \u001b[38;5;129m@functools\u001b[39m\u001b[38;5;241m.\u001b[39mwraps(fn)\n\u001b[1;32m     46\u001b[0m \u001b[38;5;28;01mdef\u001b[39;00m \u001b[38;5;21minner\u001b[39m(\u001b[38;5;241m*\u001b[39margs, \u001b[38;5;241m*\u001b[39m\u001b[38;5;241m*\u001b[39mkwargs) \u001b[38;5;241m-\u001b[39m\u001b[38;5;241m>\u001b[39m T:  \u001b[38;5;66;03m# type: ignore\u001b[39;00m\n\u001b[0;32m---> 47\u001b[0m     \u001b[38;5;28;01mreturn\u001b[39;00m \u001b[43mcallback\u001b[49m\u001b[43m(\u001b[49m\u001b[43mfn\u001b[49m\u001b[43m(\u001b[49m\u001b[38;5;241;43m*\u001b[39;49m\u001b[43margs\u001b[49m\u001b[43m,\u001b[49m\u001b[43m \u001b[49m\u001b[38;5;241;43m*\u001b[39;49m\u001b[38;5;241;43m*\u001b[39;49m\u001b[43mkwargs\u001b[49m\u001b[43m)\u001b[49m\u001b[43m)\u001b[49m\n",
      "File \u001b[0;32m/mnt/e/Working/RockOnyx/SourceCode/rock-onyx-api/.venv/lib/python3.10/site-packages/eth_abi/decoding.py:224\u001b[0m, in \u001b[0;36mTupleDecoder.decode\u001b[0;34m(self, stream)\u001b[0m\n\u001b[1;32m    222\u001b[0m \u001b[38;5;129m@to_tuple\u001b[39m  \u001b[38;5;66;03m# type: ignore[misc] # untyped decorator\u001b[39;00m\n\u001b[1;32m    223\u001b[0m \u001b[38;5;28;01mdef\u001b[39;00m \u001b[38;5;21mdecode\u001b[39m(\u001b[38;5;28mself\u001b[39m, stream: ContextFramesBytesIO) \u001b[38;5;241m-\u001b[39m\u001b[38;5;241m>\u001b[39m Generator[Any, \u001b[38;5;28;01mNone\u001b[39;00m, \u001b[38;5;28;01mNone\u001b[39;00m]:\n\u001b[0;32m--> 224\u001b[0m     \u001b[38;5;28;43mself\u001b[39;49m\u001b[38;5;241;43m.\u001b[39;49m\u001b[43mvalidate_pointers\u001b[49m\u001b[43m(\u001b[49m\u001b[43mstream\u001b[49m\u001b[43m)\u001b[49m\n\u001b[1;32m    225\u001b[0m     \u001b[38;5;28;01mfor\u001b[39;00m decoder \u001b[38;5;129;01min\u001b[39;00m \u001b[38;5;28mself\u001b[39m\u001b[38;5;241m.\u001b[39mdecoders:\n",
      "File \u001b[0;32m/mnt/e/Working/RockOnyx/SourceCode/rock-onyx-api/.venv/lib/python3.10/site-packages/eth_abi/decoding.py:218\u001b[0m, in \u001b[0;36mTupleDecoder.validate_pointers\u001b[0;34m(self, stream)\u001b[0m\n\u001b[1;32m    215\u001b[0m     \u001b[38;5;28;01melse\u001b[39;00m:\n\u001b[1;32m    216\u001b[0m         \u001b[38;5;66;03m# the next 32 bytes are not a pointer, so progress the stream per\u001b[39;00m\n\u001b[1;32m    217\u001b[0m         \u001b[38;5;66;03m# the decoder\u001b[39;00m\n\u001b[0;32m--> 218\u001b[0m         \u001b[43mdecoder\u001b[49m\u001b[43m(\u001b[49m\u001b[43mstream\u001b[49m\u001b[43m)\u001b[49m\n\u001b[1;32m    219\u001b[0m \u001b[38;5;66;03m# return the stream to its original location for actual decoding\u001b[39;00m\n",
      "File \u001b[0;32m/mnt/e/Working/RockOnyx/SourceCode/rock-onyx-api/.venv/lib/python3.10/site-packages/eth_abi/decoding.py:131\u001b[0m, in \u001b[0;36mBaseDecoder.__call__\u001b[0;34m(self, stream)\u001b[0m\n\u001b[1;32m    130\u001b[0m \u001b[38;5;28;01mdef\u001b[39;00m \u001b[38;5;21m__call__\u001b[39m(\u001b[38;5;28mself\u001b[39m, stream: ContextFramesBytesIO) \u001b[38;5;241m-\u001b[39m\u001b[38;5;241m>\u001b[39m Any:\n\u001b[0;32m--> 131\u001b[0m     \u001b[38;5;28;01mreturn\u001b[39;00m \u001b[38;5;28;43mself\u001b[39;49m\u001b[38;5;241;43m.\u001b[39;49m\u001b[43mdecode\u001b[49m\u001b[43m(\u001b[49m\u001b[43mstream\u001b[49m\u001b[43m)\u001b[49m\n",
      "File \u001b[0;32m/mnt/e/Working/RockOnyx/SourceCode/rock-onyx-api/.venv/lib/python3.10/site-packages/eth_abi/decoding.py:250\u001b[0m, in \u001b[0;36mSingleDecoder.decode\u001b[0;34m(self, stream)\u001b[0m\n\u001b[1;32m    249\u001b[0m \u001b[38;5;28;01mdef\u001b[39;00m \u001b[38;5;21mdecode\u001b[39m(\u001b[38;5;28mself\u001b[39m, stream):\n\u001b[0;32m--> 250\u001b[0m     raw_data \u001b[38;5;241m=\u001b[39m \u001b[38;5;28;43mself\u001b[39;49m\u001b[38;5;241;43m.\u001b[39;49m\u001b[43mread_data_from_stream\u001b[49m\u001b[43m(\u001b[49m\u001b[43mstream\u001b[49m\u001b[43m)\u001b[49m\n\u001b[1;32m    251\u001b[0m     data, padding_bytes \u001b[38;5;241m=\u001b[39m \u001b[38;5;28mself\u001b[39m\u001b[38;5;241m.\u001b[39msplit_data_and_padding(raw_data)\n",
      "File \u001b[0;32m/mnt/e/Working/RockOnyx/SourceCode/rock-onyx-api/.venv/lib/python3.10/site-packages/eth_abi/decoding.py:389\u001b[0m, in \u001b[0;36mFixedByteSizeDecoder.read_data_from_stream\u001b[0;34m(self, stream)\u001b[0m\n\u001b[1;32m    388\u001b[0m \u001b[38;5;28;01mif\u001b[39;00m \u001b[38;5;28mlen\u001b[39m(data) \u001b[38;5;241m!=\u001b[39m \u001b[38;5;28mself\u001b[39m\u001b[38;5;241m.\u001b[39mdata_byte_size:\n\u001b[0;32m--> 389\u001b[0m     \u001b[38;5;28;01mraise\u001b[39;00m InsufficientDataBytes(\n\u001b[1;32m    390\u001b[0m         \u001b[38;5;124mf\u001b[39m\u001b[38;5;124m\"\u001b[39m\u001b[38;5;124mTried to read \u001b[39m\u001b[38;5;132;01m{\u001b[39;00m\u001b[38;5;28mself\u001b[39m\u001b[38;5;241m.\u001b[39mdata_byte_size\u001b[38;5;132;01m}\u001b[39;00m\u001b[38;5;124m bytes, \u001b[39m\u001b[38;5;124m\"\u001b[39m\n\u001b[1;32m    391\u001b[0m         \u001b[38;5;124mf\u001b[39m\u001b[38;5;124m\"\u001b[39m\u001b[38;5;124monly got \u001b[39m\u001b[38;5;132;01m{\u001b[39;00m\u001b[38;5;28mlen\u001b[39m(data)\u001b[38;5;132;01m}\u001b[39;00m\u001b[38;5;124m bytes.\u001b[39m\u001b[38;5;124m\"\u001b[39m\n\u001b[1;32m    392\u001b[0m     )\n\u001b[1;32m    394\u001b[0m \u001b[38;5;28;01mreturn\u001b[39;00m data\n",
      "\u001b[0;31mInsufficientDataBytes\u001b[0m: Tried to read 32 bytes, only got 0 bytes.",
      "\nThe above exception was the direct cause of the following exception:\n",
      "\u001b[0;31mBadFunctionCallOutput\u001b[0m                     Traceback (most recent call last)",
      "Cell \u001b[0;32mIn[5], line 7\u001b[0m\n\u001b[1;32m      2\u001b[0m     tvl \u001b[38;5;241m=\u001b[39m vault_contract\u001b[38;5;241m.\u001b[39mfunctions\u001b[38;5;241m.\u001b[39mtotalValueLocked()\u001b[38;5;241m.\u001b[39mcall(block_identifier\u001b[38;5;241m=\u001b[39mblock_number)\n\u001b[1;32m      4\u001b[0m     \u001b[38;5;28;01mreturn\u001b[39;00m tvl \u001b[38;5;241m/\u001b[39m decimals\n\u001b[0;32m----> 7\u001b[0m \u001b[43mget_current_tvl\u001b[49m\u001b[43m(\u001b[49m\u001b[43mvault_contract\u001b[49m\u001b[43m,\u001b[49m\u001b[43m \u001b[49m\u001b[43mblock_number\u001b[49m\u001b[38;5;241;43m=\u001b[39;49m\u001b[38;5;241;43m199992141\u001b[39;49m\u001b[43m)\u001b[49m\n",
      "Cell \u001b[0;32mIn[5], line 2\u001b[0m, in \u001b[0;36mget_current_tvl\u001b[0;34m(vault_contract, decimals, block_number)\u001b[0m\n\u001b[1;32m      1\u001b[0m \u001b[38;5;28;01mdef\u001b[39;00m \u001b[38;5;21mget_current_tvl\u001b[39m(vault_contract: Contract, decimals \u001b[38;5;241m=\u001b[39m \u001b[38;5;241m1e6\u001b[39m, block_number\u001b[38;5;241m=\u001b[39m\u001b[38;5;241m200199390\u001b[39m):\n\u001b[0;32m----> 2\u001b[0m     tvl \u001b[38;5;241m=\u001b[39m \u001b[43mvault_contract\u001b[49m\u001b[38;5;241;43m.\u001b[39;49m\u001b[43mfunctions\u001b[49m\u001b[38;5;241;43m.\u001b[39;49m\u001b[43mtotalValueLocked\u001b[49m\u001b[43m(\u001b[49m\u001b[43m)\u001b[49m\u001b[38;5;241;43m.\u001b[39;49m\u001b[43mcall\u001b[49m\u001b[43m(\u001b[49m\u001b[43mblock_identifier\u001b[49m\u001b[38;5;241;43m=\u001b[39;49m\u001b[43mblock_number\u001b[49m\u001b[43m)\u001b[49m\n\u001b[1;32m      4\u001b[0m     \u001b[38;5;28;01mreturn\u001b[39;00m tvl \u001b[38;5;241m/\u001b[39m decimals\n",
      "File \u001b[0;32m/mnt/e/Working/RockOnyx/SourceCode/rock-onyx-api/.venv/lib/python3.10/site-packages/web3/contract/contract.py:305\u001b[0m, in \u001b[0;36mContractFunction.call\u001b[0;34m(self, transaction, block_identifier, state_override, ccip_read_enabled)\u001b[0m\n\u001b[1;32m    301\u001b[0m call_transaction \u001b[38;5;241m=\u001b[39m \u001b[38;5;28mself\u001b[39m\u001b[38;5;241m.\u001b[39m_get_call_txparams(transaction)\n\u001b[1;32m    303\u001b[0m block_id \u001b[38;5;241m=\u001b[39m parse_block_identifier(\u001b[38;5;28mself\u001b[39m\u001b[38;5;241m.\u001b[39mw3, block_identifier)\n\u001b[0;32m--> 305\u001b[0m \u001b[38;5;28;01mreturn\u001b[39;00m \u001b[43mcall_contract_function\u001b[49m\u001b[43m(\u001b[49m\n\u001b[1;32m    306\u001b[0m \u001b[43m    \u001b[49m\u001b[38;5;28;43mself\u001b[39;49m\u001b[38;5;241;43m.\u001b[39;49m\u001b[43mw3\u001b[49m\u001b[43m,\u001b[49m\n\u001b[1;32m    307\u001b[0m \u001b[43m    \u001b[49m\u001b[38;5;28;43mself\u001b[39;49m\u001b[38;5;241;43m.\u001b[39;49m\u001b[43maddress\u001b[49m\u001b[43m,\u001b[49m\n\u001b[1;32m    308\u001b[0m \u001b[43m    \u001b[49m\u001b[38;5;28;43mself\u001b[39;49m\u001b[38;5;241;43m.\u001b[39;49m\u001b[43m_return_data_normalizers\u001b[49m\u001b[43m,\u001b[49m\n\u001b[1;32m    309\u001b[0m \u001b[43m    \u001b[49m\u001b[38;5;28;43mself\u001b[39;49m\u001b[38;5;241;43m.\u001b[39;49m\u001b[43mfunction_identifier\u001b[49m\u001b[43m,\u001b[49m\n\u001b[1;32m    310\u001b[0m \u001b[43m    \u001b[49m\u001b[43mcall_transaction\u001b[49m\u001b[43m,\u001b[49m\n\u001b[1;32m    311\u001b[0m \u001b[43m    \u001b[49m\u001b[43mblock_id\u001b[49m\u001b[43m,\u001b[49m\n\u001b[1;32m    312\u001b[0m \u001b[43m    \u001b[49m\u001b[38;5;28;43mself\u001b[39;49m\u001b[38;5;241;43m.\u001b[39;49m\u001b[43mcontract_abi\u001b[49m\u001b[43m,\u001b[49m\n\u001b[1;32m    313\u001b[0m \u001b[43m    \u001b[49m\u001b[38;5;28;43mself\u001b[39;49m\u001b[38;5;241;43m.\u001b[39;49m\u001b[43mabi\u001b[49m\u001b[43m,\u001b[49m\n\u001b[1;32m    314\u001b[0m \u001b[43m    \u001b[49m\u001b[43mstate_override\u001b[49m\u001b[43m,\u001b[49m\n\u001b[1;32m    315\u001b[0m \u001b[43m    \u001b[49m\u001b[43mccip_read_enabled\u001b[49m\u001b[43m,\u001b[49m\n\u001b[1;32m    316\u001b[0m \u001b[43m    \u001b[49m\u001b[38;5;28;43mself\u001b[39;49m\u001b[38;5;241;43m.\u001b[39;49m\u001b[43mdecode_tuples\u001b[49m\u001b[43m,\u001b[49m\n\u001b[1;32m    317\u001b[0m \u001b[43m    \u001b[49m\u001b[38;5;241;43m*\u001b[39;49m\u001b[38;5;28;43mself\u001b[39;49m\u001b[38;5;241;43m.\u001b[39;49m\u001b[43margs\u001b[49m\u001b[43m,\u001b[49m\n\u001b[1;32m    318\u001b[0m \u001b[43m    \u001b[49m\u001b[38;5;241;43m*\u001b[39;49m\u001b[38;5;241;43m*\u001b[39;49m\u001b[38;5;28;43mself\u001b[39;49m\u001b[38;5;241;43m.\u001b[39;49m\u001b[43mkwargs\u001b[49m\u001b[43m,\u001b[49m\n\u001b[1;32m    319\u001b[0m \u001b[43m\u001b[49m\u001b[43m)\u001b[49m\n",
      "File \u001b[0;32m/mnt/e/Working/RockOnyx/SourceCode/rock-onyx-api/.venv/lib/python3.10/site-packages/web3/contract/utils.py:129\u001b[0m, in \u001b[0;36mcall_contract_function\u001b[0;34m(w3, address, normalizers, function_identifier, transaction, block_id, contract_abi, fn_abi, state_override, ccip_read_enabled, decode_tuples, *args, **kwargs)\u001b[0m\n\u001b[1;32m    124\u001b[0m     \u001b[38;5;28;01melse\u001b[39;00m:\n\u001b[1;32m    125\u001b[0m         msg \u001b[38;5;241m=\u001b[39m (\n\u001b[1;32m    126\u001b[0m             \u001b[38;5;124mf\u001b[39m\u001b[38;5;124m\"\u001b[39m\u001b[38;5;124mCould not decode contract function call to \u001b[39m\u001b[38;5;132;01m{\u001b[39;00mfunction_identifier\u001b[38;5;132;01m}\u001b[39;00m\u001b[38;5;124m \u001b[39m\u001b[38;5;124m\"\u001b[39m\n\u001b[1;32m    127\u001b[0m             \u001b[38;5;124mf\u001b[39m\u001b[38;5;124m\"\u001b[39m\u001b[38;5;124mwith return data: \u001b[39m\u001b[38;5;132;01m{\u001b[39;00m\u001b[38;5;28mstr\u001b[39m(return_data)\u001b[38;5;132;01m}\u001b[39;00m\u001b[38;5;124m, output_types: \u001b[39m\u001b[38;5;132;01m{\u001b[39;00moutput_types\u001b[38;5;132;01m}\u001b[39;00m\u001b[38;5;124m\"\u001b[39m\n\u001b[1;32m    128\u001b[0m         )\n\u001b[0;32m--> 129\u001b[0m     \u001b[38;5;28;01mraise\u001b[39;00m BadFunctionCallOutput(msg) \u001b[38;5;28;01mfrom\u001b[39;00m \u001b[38;5;21;01me\u001b[39;00m\n\u001b[1;32m    131\u001b[0m _normalizers \u001b[38;5;241m=\u001b[39m itertools\u001b[38;5;241m.\u001b[39mchain(\n\u001b[1;32m    132\u001b[0m     BASE_RETURN_NORMALIZERS,\n\u001b[1;32m    133\u001b[0m     normalizers,\n\u001b[1;32m    134\u001b[0m )\n\u001b[1;32m    135\u001b[0m normalized_data \u001b[38;5;241m=\u001b[39m map_abi_data(_normalizers, output_types, output_data)\n",
      "\u001b[0;31mBadFunctionCallOutput\u001b[0m: Could not decode contract function call to totalValueLocked with return data: b'', output_types: ['uint256']"
     ]
    }
   ],
   "source": [
    "\n",
    "def get_current_tvl(vault_contract: Contract, decimals = 1e6, block_number=200199390):\n",
    "    tvl = vault_contract.functions.totalValueLocked().call(block_identifier=block_number)\n",
    "\n",
    "    return tvl / decimals\n",
    "\n",
    "\n",
    "get_current_tvl(vault_contract, block_number=199992141)"
   ]
  },
  {
   "cell_type": "code",
   "execution_count": 8,
   "metadata": {},
   "outputs": [
    {
     "data": {
      "text/plain": [
       "1.02168"
      ]
     },
     "execution_count": 8,
     "metadata": {},
     "output_type": "execute_result"
    }
   ],
   "source": [
    "def get_pps(vault_contract: Contract, decimals = 1e6, block_number=200199390):\n",
    "    tvl = vault_contract.functions.pricePerShare().call(block_identifier=block_number)\n",
    "\n",
    "    return tvl / decimals\n",
    "\n",
    "\n",
    "get_pps(vault_contract, block_number=247413676)"
   ]
  },
  {
   "cell_type": "code",
   "execution_count": null,
   "metadata": {},
   "outputs": [],
   "source": []
  }
 ],
 "metadata": {
  "kernelspec": {
   "display_name": ".venv",
   "language": "python",
   "name": "python3"
  },
  "language_info": {
   "codemirror_mode": {
    "name": "ipython",
    "version": 3
   },
   "file_extension": ".py",
   "mimetype": "text/x-python",
   "name": "python",
   "nbconvert_exporter": "python",
   "pygments_lexer": "ipython3",
   "version": "3.10.9"
  }
 },
 "nbformat": 4,
 "nbformat_minor": 2
}
